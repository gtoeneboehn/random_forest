{
 "cells": [
  {
   "cell_type": "code",
   "execution_count": 1,
   "metadata": {},
   "outputs": [],
   "source": [
    "##Appendix\n",
    "\n",
    "#Data Source\n",
    "\n",
    "#Jupyter\n",
    "#https://jupyter-notebook-beginner-guide.readthedocs.io/en/latest/what_is_jupyter.html\n",
    "\n",
    "#Sources\n",
    "#https://towardsdatascience.com/train-test-split-and-cross-validation-in-python-80b61beca4b6\n",
    "#https://medium.com/machine-learning-for-humans/why-machine-learning-matters-6164faf1df12\n",
    "#https://medium.com/@williamkoehrsen/random-forest-simple-explanation-377895a60d2d\n",
    "#https://towardsdatascience.com/random-forest-in-python-24d0893d51c0\n",
    "#https://github.com/WillKoehrsen/Data-Analysis/tree/master/random_forest_explained\n",
    "    \n",
    "#more on pandas\n",
    "#https://www.datacamp.com/community/tutorials/pandas-tutorial-dataframe-python"
   ]
  },
  {
   "cell_type": "code",
   "execution_count": 2,
   "metadata": {},
   "outputs": [],
   "source": [
    "import os\n",
    "import pandas as pd"
   ]
  },
  {
   "cell_type": "code",
   "execution_count": 3,
   "metadata": {},
   "outputs": [
    {
     "name": "stdout",
     "output_type": "stream",
     "text": [
      "C:/Users/tomsharp/Desktop/Demystifying_ML/random_forest/\n",
      "C:/Users/tomsharp/Desktop/Demystifying_ML/random_forest/data/Boston Housing Prices.csv\n"
     ]
    }
   ],
   "source": [
    "username = \"tomsharp\"\n",
    "\n",
    "parent_path = r\"C:/Users/\" +str(username)+\"/Desktop/Demystifying_ML/random_forest/\"\n",
    "data_path = parent_path + \"data/Boston Housing Prices.csv\"\n",
    "data_dict_path = parent_path + \"data/boston_data_dict.csv\"\n",
    "print(parent_path)\n",
    "print(data_path)"
   ]
  },
  {
   "cell_type": "code",
   "execution_count": 4,
   "metadata": {},
   "outputs": [],
   "source": [
    "#Read in the data \n",
    "data = pd.read_csv(data_path)"
   ]
  },
  {
   "cell_type": "code",
   "execution_count": 7,
   "metadata": {},
   "outputs": [
    {
     "name": "stdout",
     "output_type": "stream",
     "text": [
      "num of rows =  8602\n",
      "num of cols =  17\n"
     ]
    }
   ],
   "source": [
    "print(\"num of rows = \", data.size)\n",
    "print(\"num of cols = \", len(data.columns))"
   ]
  },
  {
   "cell_type": "code",
   "execution_count": 6,
   "metadata": {},
   "outputs": [
    {
     "name": "stdout",
     "output_type": "stream",
     "text": [
      "         town  tract  longitude   latitude    crime  residential  industrial  \\\n",
      "0      Nahant   2011 -70.955002  42.255001  0.00632         18.0        2.31   \n",
      "1  Swampscott   2021 -70.949997  42.287498  0.02731          0.0        7.07   \n",
      "2  Swampscott   2022 -70.935997  42.283001  0.02729          0.0        7.07   \n",
      "\n",
      "  river    nox  rooms      older  distance  highway  tax    ptratio  lstat  \\\n",
      "0    no  0.538  6.575  65.199997    4.0900        1  296  15.300000   4.98   \n",
      "1    no  0.469  6.421  78.900002    4.9671        2  242  17.799999   9.14   \n",
      "2    no  0.469  7.185  61.099998    4.9671        2  242  17.799999   4.03   \n",
      "\n",
      "       cmedv  \n",
      "0  24.000000  \n",
      "1  21.600000  \n",
      "2  34.700001  \n"
     ]
    }
   ],
   "source": [
    "#That's a lot of rows, let's just look at the first three columns of the data, instead of all of it\n",
    "print(data.head(3))"
   ]
  },
  {
   "cell_type": "code",
   "execution_count": 5,
   "metadata": {},
   "outputs": [
    {
     "name": "stdout",
     "output_type": "stream",
     "text": [
      "Index(['town', 'tract', 'longitude', 'latitude', 'crime', 'residential',\n",
      "       'industrial', 'river', 'nox', 'rooms', 'older', 'distance', 'highway',\n",
      "       'tax', 'ptratio', 'lstat', 'cmedv'],\n",
      "      dtype='object')\n"
     ]
    }
   ],
   "source": [
    "#attribute - describes the data (an adjective)\n",
    "print(data.columns)"
   ]
  },
  {
   "cell_type": "code",
   "execution_count": 8,
   "metadata": {},
   "outputs": [
    {
     "name": "stdout",
     "output_type": "stream",
     "text": [
      "             tract   longitude    latitude       crime  residential  \\\n",
      "count   506.000000  506.000000  506.000000  506.000000   506.000000   \n",
      "mean   2700.355731  -71.056389   42.216440    3.613524    11.363636   \n",
      "std    1380.036830    0.075405    0.061777    8.601545    23.322453   \n",
      "min       1.000000  -71.289497   42.029999    0.006320     0.000000   \n",
      "25%    1303.250000  -71.093226   42.180774    0.082045     0.000000   \n",
      "50%    3393.500000  -71.052902   42.218100    0.256510     0.000000   \n",
      "75%    3739.750000  -71.019625   42.252249    3.677083    12.500000   \n",
      "max    5082.000000  -70.809998   42.381000   88.976196   100.000000   \n",
      "\n",
      "       industrial         nox       rooms       older    distance     highway  \\\n",
      "count  506.000000  506.000000  506.000000  506.000000  506.000000  506.000000   \n",
      "mean    11.136779    0.554695    6.284634   68.574901    3.795043    9.549407   \n",
      "std      6.860353    0.115878    0.702617   28.148862    2.105710    8.707259   \n",
      "min      0.460000    0.385000    3.561000    2.900000    1.129600    1.000000   \n",
      "25%      5.190000    0.449000    5.885500   45.025000    2.100175    4.000000   \n",
      "50%      9.690000    0.538000    6.208500   77.500000    3.207450    5.000000   \n",
      "75%     18.100000    0.624000    6.623500   94.074999    5.188425   24.000000   \n",
      "max     27.740000    0.871000    8.780000  100.000000   12.126500   24.000000   \n",
      "\n",
      "              tax     ptratio       lstat       cmedv  \n",
      "count  506.000000  506.000000  506.000000  506.000000  \n",
      "mean   408.237154   18.455534   12.653063   22.528854  \n",
      "std    168.537116    2.164946    7.141062    9.182176  \n",
      "min    187.000000   12.600000    1.730000    5.000000  \n",
      "25%    279.000000   17.400000    6.950000   17.025000  \n",
      "50%    330.000000   19.050000   11.360000   21.200001  \n",
      "75%    666.000000   20.200001   16.954999   25.000000  \n",
      "max    711.000000   22.000000   37.970001   50.000000  \n"
     ]
    }
   ],
   "source": [
    "#method - take an action on the data (a verb)\n",
    "print(data.describe())"
   ]
  },
  {
   "cell_type": "code",
   "execution_count": 9,
   "metadata": {
    "scrolled": false
   },
   "outputs": [
    {
     "name": "stdout",
     "output_type": "stream",
     "text": [
      "<class 'pandas.core.frame.DataFrame'>\n",
      "RangeIndex: 506 entries, 0 to 505\n",
      "Data columns (total 17 columns):\n",
      "town           506 non-null object\n",
      "tract          506 non-null int64\n",
      "longitude      506 non-null float64\n",
      "latitude       506 non-null float64\n",
      "crime          506 non-null float64\n",
      "residential    506 non-null float64\n",
      "industrial     506 non-null float64\n",
      "river          506 non-null object\n",
      "nox            506 non-null float64\n",
      "rooms          506 non-null float64\n",
      "older          506 non-null float64\n",
      "distance       506 non-null float64\n",
      "highway        506 non-null int64\n",
      "tax            506 non-null int64\n",
      "ptratio        506 non-null float64\n",
      "lstat          506 non-null float64\n",
      "cmedv          506 non-null float64\n",
      "dtypes: float64(12), int64(3), object(2)\n",
      "memory usage: 67.3+ KB\n"
     ]
    }
   ],
   "source": [
    "#Another way to view summary data\n",
    "data.info()"
   ]
  },
  {
   "cell_type": "code",
   "execution_count": 10,
   "metadata": {},
   "outputs": [
    {
     "name": "stdout",
     "output_type": "stream",
     "text": [
      "       Col Name                                         Definition\n",
      "0          town                                       name of town\n",
      "1         tract                                       census tract\n",
      "2     longitude                               long of census tract\n",
      "3      latitude                                lat of census tract\n",
      "4         crime                      per capita crime rate by town\n",
      "5   residential  proportion of residential land zoned for lots ...\n",
      "6    industrial   proportion of non-retail business acres per town\n",
      "7         river  Charles River dummy variable (= 1 if tract bou...\n",
      "8           nox  nitric oxides concentration (parts per 10 mill...\n",
      "9         rooms               average number of rooms per dwelling\n",
      "10        older  proportion of owner-occupied units older than ...\n",
      "11     distance  weighted distances to five Boston employment c...\n",
      "12      highway          index of accessibility to radial highways\n",
      "13          tax           full-value property-tax rate per $10,000\n",
      "14      ptratio                        pupil-teacher ratio by town\n",
      "15        lstat                   % lower status of the population\n",
      "16        cmedv    Median value of owner-occupied homes in $1000's\n"
     ]
    }
   ],
   "source": [
    "#What do all these fields mean? Let's use the data dictionary to find out\n",
    "data_dict = pd.read_csv(data_dict_path)\n",
    "print(data_dict)"
   ]
  },
  {
   "cell_type": "code",
   "execution_count": 11,
   "metadata": {},
   "outputs": [],
   "source": [
    "# This last value, cmedv, is what we would like to predict using a machine learning. \n",
    "# Before we can do that, we need to walk through a few other things first."
   ]
  },
  {
   "cell_type": "code",
   "execution_count": 12,
   "metadata": {},
   "outputs": [],
   "source": [
    "# First, which features of a neighborhood do you think would contribute most to housing price? \n",
    "# Which would contribute least?"
   ]
  },
  {
   "cell_type": "code",
   "execution_count": 13,
   "metadata": {},
   "outputs": [
    {
     "name": "stdout",
     "output_type": "stream",
     "text": [
      "   tract  longitude   latitude    crime  residential  industrial  river  \\\n",
      "0   2011 -70.955002  42.255001  0.00632         18.0        2.31  False   \n",
      "1   2021 -70.949997  42.287498  0.02731          0.0        7.07  False   \n",
      "2   2022 -70.935997  42.283001  0.02729          0.0        7.07  False   \n",
      "3   2031 -70.928001  42.292999  0.03237          0.0        2.18  False   \n",
      "4   2032 -70.921997  42.298000  0.06905          0.0        2.18  False   \n",
      "\n",
      "     nox  rooms      older  distance  highway  tax    ptratio  lstat  \\\n",
      "0  0.538  6.575  65.199997    4.0900        1  296  15.300000   4.98   \n",
      "1  0.469  6.421  78.900002    4.9671        2  242  17.799999   9.14   \n",
      "2  0.469  7.185  61.099998    4.9671        2  242  17.799999   4.03   \n",
      "3  0.458  6.998  45.799999    6.0622        3  222  18.700001   2.94   \n",
      "4  0.458  7.147  54.200001    6.0622        3  222  18.700001   5.33   \n",
      "\n",
      "       cmedv  \n",
      "0  24.000000  \n",
      "1  21.600000  \n",
      "2  34.700001  \n",
      "3  33.400002  \n",
      "4  36.200001  \n"
     ]
    }
   ],
   "source": [
    "# Clean the data - do all of this at once \n",
    "data['river'].replace('no', False, inplace = True)\n",
    "data['river'].replace('yes', True, inplace = True)\n",
    "data.drop(['town'], axis = 1, inplace = True)\n",
    "\n",
    "print(data.head())"
   ]
  },
  {
   "cell_type": "code",
   "execution_count": null,
   "metadata": {},
   "outputs": [],
   "source": []
  },
  {
   "cell_type": "code",
   "execution_count": 14,
   "metadata": {},
   "outputs": [
    {
     "name": "stdout",
     "output_type": "stream",
     "text": [
      "Index(['tract', 'longitude', 'latitude', 'crime', 'residential', 'industrial',\n",
      "       'river', 'nox', 'rooms', 'older', 'distance', 'highway', 'tax',\n",
      "       'ptratio', 'lstat'],\n",
      "      dtype='object')\n"
     ]
    }
   ],
   "source": [
    "# TODO change which features to train\n",
    "#split the data\n",
    "features = data.drop('cmedv', axis=1)\n",
    "labels = data['cmedv']\n",
    "print(features.columns)\n",
    "\n",
    "\n",
    "#convert to numpy arrays\n",
    "import numpy as np\n",
    "features = np.array(features)\n",
    "labels = np.array(labels)"
   ]
  },
  {
   "cell_type": "code",
   "execution_count": 15,
   "metadata": {},
   "outputs": [],
   "source": [
    "# Split the Data\n",
    "# In machine learning, the columns in X are referred to as the features, and the y value is referred to as the target\n",
    "# Since we have the y values here, this is known as supervised learning\n",
    "# The split takes the data and splits it into a dataset for training (fitting) the model, and a subset to test the model\n",
    "# Here we are doing an 80/20 split, respectively \n",
    "\n",
    "from sklearn.model_selection import train_test_split\n",
    "X_train, X_test, y_train, y_test = train_test_split(features, labels, test_size = 0.2, random_state = 1)"
   ]
  },
  {
   "cell_type": "code",
   "execution_count": 16,
   "metadata": {},
   "outputs": [],
   "source": [
    "#import\n",
    "from sklearn import tree\n",
    "#instantiate \n",
    "decision_tree = tree.DecisionTreeRegressor(random_state = 8)\n",
    "#train/fit\n",
    "decision_tree = decision_tree.fit(X_train, y_train)"
   ]
  },
  {
   "cell_type": "code",
   "execution_count": 17,
   "metadata": {},
   "outputs": [],
   "source": [
    "import graphviz \n",
    "import pydot\n",
    "\n",
    "#dot_data = tree.export_graphviz(decision_tree, out_file= 'tree.dot', feature_names = list(data.drop('cmedv', axis=1).columns), rounded = True, precision = 1)\n",
    "#graph = graphviz.Source(dot_data) \n",
    "\n",
    "# Use dot file to create a graph\n",
    "#(graph, ) = pydot.graph_from_dot_file('tree.dot')\n",
    "\n",
    "# Write graph to a png file\n",
    "#graph.write_png('tree.png'); "
   ]
  },
  {
   "cell_type": "code",
   "execution_count": 18,
   "metadata": {},
   "outputs": [
    {
     "data": {
      "text/html": [
       "<div>\n",
       "<style scoped>\n",
       "    .dataframe tbody tr th:only-of-type {\n",
       "        vertical-align: middle;\n",
       "    }\n",
       "\n",
       "    .dataframe tbody tr th {\n",
       "        vertical-align: top;\n",
       "    }\n",
       "\n",
       "    .dataframe thead th {\n",
       "        text-align: right;\n",
       "    }\n",
       "</style>\n",
       "<table border=\"1\" class=\"dataframe\">\n",
       "  <thead>\n",
       "    <tr style=\"text-align: right;\">\n",
       "      <th></th>\n",
       "      <th>0</th>\n",
       "    </tr>\n",
       "  </thead>\n",
       "  <tbody>\n",
       "    <tr>\n",
       "      <th>28.200001</th>\n",
       "      <td>30.100000</td>\n",
       "    </tr>\n",
       "    <tr>\n",
       "      <th>23.900000</th>\n",
       "      <td>28.700001</td>\n",
       "    </tr>\n",
       "    <tr>\n",
       "      <th>16.600000</th>\n",
       "      <td>18.900000</td>\n",
       "    </tr>\n",
       "    <tr>\n",
       "      <th>22.000000</th>\n",
       "      <td>20.900000</td>\n",
       "    </tr>\n",
       "    <tr>\n",
       "      <th>20.799999</th>\n",
       "      <td>16.799999</td>\n",
       "    </tr>\n",
       "  </tbody>\n",
       "</table>\n",
       "</div>"
      ],
      "text/plain": [
       "                   0\n",
       "28.200001  30.100000\n",
       "23.900000  28.700001\n",
       "16.600000  18.900000\n",
       "22.000000  20.900000\n",
       "20.799999  16.799999"
      ]
     },
     "execution_count": 18,
     "metadata": {},
     "output_type": "execute_result"
    }
   ],
   "source": [
    "# Use the forest's predict method on the test data\n",
    "predictions = decision_tree.predict(X_test)\n",
    "pd.DataFrame(predictions, y_test).head(5)"
   ]
  },
  {
   "cell_type": "code",
   "execution_count": 19,
   "metadata": {},
   "outputs": [
    {
     "name": "stdout",
     "output_type": "stream",
     "text": [
      "Our tree's accuracy is 86.5%\n"
     ]
    }
   ],
   "source": [
    "from sklearn.metrics import accuracy_score\n",
    "\n",
    "#accuracy_score(np.array(y_test), np.array(predictions))\n",
    "accuracy = decision_tree.score(np.array(X_test), np.array(y_test))\n",
    "\n",
    "print(\"Our tree's accuracy is \" + str(round(accuracy*100,2)) + \"%\")"
   ]
  },
  {
   "cell_type": "code",
   "execution_count": 20,
   "metadata": {},
   "outputs": [],
   "source": [
    "# This is a pretty awesome accuracy given that we haven't tuned the model at all\n",
    "# Side note - Please note that if we set the random states to different numbers, the result would be different, however\n",
    "# While this decision tree is quite accurate, we can possibly improve accuracy using the random forest model\n",
    "# The random forest model essentially builds multiple decision trees, takes the outputs from all of those trees, and \n",
    "# determines the best prediction by taking the average (regression) or the mode (classification) of the outputs "
   ]
  },
  {
   "cell_type": "markdown",
   "metadata": {},
   "source": [
    "### Random Forest"
   ]
  },
  {
   "cell_type": "code",
   "execution_count": 21,
   "metadata": {},
   "outputs": [
    {
     "data": {
      "text/plain": [
       "RandomForestRegressor(bootstrap=True, criterion='mse', max_depth=None,\n",
       "           max_features='auto', max_leaf_nodes=None,\n",
       "           min_impurity_decrease=0.0, min_impurity_split=None,\n",
       "           min_samples_leaf=1, min_samples_split=2,\n",
       "           min_weight_fraction_leaf=0.0, n_estimators=1000, n_jobs=None,\n",
       "           oob_score=False, random_state=10, verbose=0, warm_start=False)"
      ]
     },
     "execution_count": 21,
     "metadata": {},
     "output_type": "execute_result"
    }
   ],
   "source": [
    "# Again, we import, instantiate, and then fit\n",
    "# Here, n_estimators is the number of decision trees in our random forest\n",
    "\n",
    "from sklearn.ensemble import RandomForestRegressor\n",
    "rf = RandomForestRegressor(n_estimators = 1000, random_state = 10)\n",
    "rf.fit(X_train, y_train)"
   ]
  },
  {
   "cell_type": "code",
   "execution_count": 22,
   "metadata": {},
   "outputs": [
    {
     "data": {
      "text/html": [
       "<div>\n",
       "<style scoped>\n",
       "    .dataframe tbody tr th:only-of-type {\n",
       "        vertical-align: middle;\n",
       "    }\n",
       "\n",
       "    .dataframe tbody tr th {\n",
       "        vertical-align: top;\n",
       "    }\n",
       "\n",
       "    .dataframe thead th {\n",
       "        text-align: right;\n",
       "    }\n",
       "</style>\n",
       "<table border=\"1\" class=\"dataframe\">\n",
       "  <thead>\n",
       "    <tr style=\"text-align: right;\">\n",
       "      <th></th>\n",
       "      <th>0</th>\n",
       "    </tr>\n",
       "  </thead>\n",
       "  <tbody>\n",
       "    <tr>\n",
       "      <th>29.8702</th>\n",
       "      <td>28.200001</td>\n",
       "    </tr>\n",
       "    <tr>\n",
       "      <th>26.5618</th>\n",
       "      <td>23.900000</td>\n",
       "    </tr>\n",
       "    <tr>\n",
       "      <th>18.5152</th>\n",
       "      <td>16.600000</td>\n",
       "    </tr>\n",
       "    <tr>\n",
       "      <th>21.4070</th>\n",
       "      <td>22.000000</td>\n",
       "    </tr>\n",
       "    <tr>\n",
       "      <th>19.6283</th>\n",
       "      <td>20.799999</td>\n",
       "    </tr>\n",
       "  </tbody>\n",
       "</table>\n",
       "</div>"
      ],
      "text/plain": [
       "                 0\n",
       "29.8702  28.200001\n",
       "26.5618  23.900000\n",
       "18.5152  16.600000\n",
       "21.4070  22.000000\n",
       "19.6283  20.799999"
      ]
     },
     "execution_count": 22,
     "metadata": {},
     "output_type": "execute_result"
    }
   ],
   "source": [
    "# Now let's predict and see the predictions next to the actual y values\n",
    "\n",
    "predictions = rf.predict(X_test)\n",
    "pd.DataFrame(y_test, predictions).head()"
   ]
  },
  {
   "cell_type": "code",
   "execution_count": 23,
   "metadata": {},
   "outputs": [
    {
     "name": "stdout",
     "output_type": "stream",
     "text": [
      "Our tree's accuracy is 92.14%\n"
     ]
    }
   ],
   "source": [
    "from sklearn.metrics import accuracy_score\n",
    "\n",
    "#accuracy_score(np.array(y_test), np.array(predictions))\n",
    "accuracy = rf.score(np.array(X_test), np.array(y_test))\n",
    "\n",
    "print(\"Our tree's accuracy is \" + str(round(accuracy*100,2)) + \"%\")"
   ]
  },
  {
   "cell_type": "code",
   "execution_count": 24,
   "metadata": {},
   "outputs": [],
   "source": [
    "# Our accuracy improved! Let's take a deeper look at how close our model is to predicting actual housing prices"
   ]
  },
  {
   "cell_type": "code",
   "execution_count": 25,
   "metadata": {},
   "outputs": [
    {
     "name": "stdout",
     "output_type": "stream",
     "text": [
      "Mean Absolute Error: $2125.9\n"
     ]
    }
   ],
   "source": [
    "# Calculate the average error for the predicted results\n",
    "absolute_errors = abs(predictions - y_test)\n",
    "mean_absolute_error = np.mean(absolute_errors)\n",
    "mean_absolute_error = round(mean_absolute_error, 4)\n",
    "\n",
    "# Remember that our housing prices are in thousands of dollars, so let's show that here\n",
    "print('Mean Absolute Error: $', 1000*mean_absolute_error, sep = '')"
   ]
  },
  {
   "cell_type": "code",
   "execution_count": 26,
   "metadata": {},
   "outputs": [],
   "source": [
    "# Not too bad! "
   ]
  },
  {
   "cell_type": "code",
   "execution_count": 39,
   "metadata": {},
   "outputs": [],
   "source": [
    "# Import tools needed for visualization\n",
    "from sklearn.tree import export_graphviz\n",
    "import pydot\n",
    "\n",
    "# Pull out one tree from the forest\n",
    "tree = rf.estimators_[5]\n",
    "\n",
    "# Import tools needed for visualization\n",
    "from sklearn.tree import export_graphviz\n",
    "import pydot\n",
    "\n",
    "# Pull out one tree from the forest\n",
    "tree = rf.estimators_[5]\n",
    "\n",
    "# Export the image to a dot file\n",
    "feature_list = data.drop('cmedv', axis=1).columns\n",
    "export_graphviz(tree, out_file = 'tree.dot', feature_names = feature_list, rounded = True, precision = 1)\n",
    "\n",
    "# Use dot file to create a graph\n",
    "(graph, ) = pydot.graph_from_dot_file('tree.dot')\n"
   ]
  },
  {
   "cell_type": "code",
   "execution_count": 35,
   "metadata": {},
   "outputs": [],
   "source": [
    "# To convert this dot file, you need to use some command line magic\n",
    "# I converted the file beforehand, so you can view the tree by running this code block\n",
    "!(\"images/tree_from_random_forest_output.png\")\n",
    "\n",
    "# For anyone interested, the command line function is below (make sure you are cd'd into the random_forest directory)\n",
    "# dot -Tpng tree.dot -o tree from random_forest_output.png"
   ]
  },
  {
   "cell_type": "code",
   "execution_count": 46,
   "metadata": {},
   "outputs": [
    {
     "name": "stdout",
     "output_type": "stream",
     "text": [
      "Variable: lstat                Importance: 0.5\n",
      "Variable: rooms                Importance: 0.29\n",
      "Variable: distance             Importance: 0.05\n",
      "Variable: crime                Importance: 0.04\n",
      "Variable: longitude            Importance: 0.02\n",
      "Variable: nox                  Importance: 0.02\n",
      "Variable: older                Importance: 0.02\n",
      "Variable: tract                Importance: 0.01\n",
      "Variable: latitude             Importance: 0.01\n",
      "Variable: industrial           Importance: 0.01\n",
      "Variable: tax                  Importance: 0.01\n",
      "Variable: ptratio              Importance: 0.01\n",
      "Variable: residential          Importance: 0.0\n",
      "Variable: river                Importance: 0.0\n",
      "Variable: highway              Importance: 0.0\n"
     ]
    }
   ],
   "source": [
    "# Let's see which factors of a neighborhood influence it's price the most. We can do this using a few more complex \n",
    "# techniques in Python. I won't be getting into these and I am also going to use some code that was written by William Koehrsen\n",
    "# in his article that can be found here: https://towardsdatascience.com/random-forest-in-python-24d0893d51c0\n",
    "\n",
    "# Get numerical feature importances\n",
    "importances = list(rf.feature_importances_)\n",
    "\n",
    "# List of tuples with variable and importance\n",
    "feature_importances = [(feature, round(importance, 2)) for feature, importance in zip(feature_list, importances)]\n",
    "\n",
    "# Sort the feature importances by most important first\n",
    "feature_importances = sorted(feature_importances, key = lambda x: x[1], reverse = True)\n",
    "\n",
    "# Print out the feature and importances \n",
    "[print('Variable: {:20} Importance: {}'.format(*pair)) for pair in feature_importances];"
   ]
  },
  {
   "cell_type": "code",
   "execution_count": 47,
   "metadata": {
    "scrolled": false
   },
   "outputs": [
    {
     "name": "stdout",
     "output_type": "stream",
     "text": [
      "       Col Name                                         Definition\n",
      "0          town                                       name of town\n",
      "1         tract                                       census tract\n",
      "2     longitude                               long of census tract\n",
      "3      latitude                                lat of census tract\n",
      "4         crime                      per capita crime rate by town\n",
      "5   residential  proportion of residential land zoned for lots ...\n",
      "6    industrial   proportion of non-retail business acres per town\n",
      "7         river  Charles River dummy variable (= 1 if tract bou...\n",
      "8           nox  nitric oxides concentration (parts per 10 mill...\n",
      "9         rooms               average number of rooms per dwelling\n",
      "10        older  proportion of owner-occupied units older than ...\n",
      "11     distance  weighted distances to five Boston employment c...\n",
      "12      highway          index of accessibility to radial highways\n",
      "13          tax           full-value property-tax rate per $10,000\n",
      "14      ptratio                        pupil-teacher ratio by town\n",
      "15        lstat                   % lower status of the population\n",
      "16        cmedv    Median value of owner-occupied homes in $1000's\n"
     ]
    }
   ],
   "source": [
    "# Let's look at the data dictionary as a reminder of what these variables are\n",
    "print(data_dict)"
   ]
  },
  {
   "cell_type": "markdown",
   "metadata": {},
   "source": [
    "It looks like lstat and rooms make up about 80% of the importance in predicting the housing price.<br>\n",
    "Does this make sense? It is always improtant to look at your model output and determine if it logically matches the context of the problem"
   ]
  },
  {
   "cell_type": "markdown",
   "metadata": {},
   "source": [
    "## Tuning the Forest (Time Permitting)"
   ]
  },
  {
   "cell_type": "code",
   "execution_count": 92,
   "metadata": {},
   "outputs": [
    {
     "data": {
      "text/html": [
       "<div>\n",
       "<style scoped>\n",
       "    .dataframe tbody tr th:only-of-type {\n",
       "        vertical-align: middle;\n",
       "    }\n",
       "\n",
       "    .dataframe tbody tr th {\n",
       "        vertical-align: top;\n",
       "    }\n",
       "\n",
       "    .dataframe thead th {\n",
       "        text-align: right;\n",
       "    }\n",
       "</style>\n",
       "<table border=\"1\" class=\"dataframe\">\n",
       "  <thead>\n",
       "    <tr style=\"text-align: right;\">\n",
       "      <th></th>\n",
       "      <th>features</th>\n",
       "      <th>importance</th>\n",
       "      <th>cumulative importance</th>\n",
       "    </tr>\n",
       "  </thead>\n",
       "  <tbody>\n",
       "    <tr>\n",
       "      <th>0</th>\n",
       "      <td>lstat</td>\n",
       "      <td>0.50</td>\n",
       "      <td>0.50</td>\n",
       "    </tr>\n",
       "    <tr>\n",
       "      <th>1</th>\n",
       "      <td>rooms</td>\n",
       "      <td>0.29</td>\n",
       "      <td>0.79</td>\n",
       "    </tr>\n",
       "    <tr>\n",
       "      <th>2</th>\n",
       "      <td>distance</td>\n",
       "      <td>0.05</td>\n",
       "      <td>0.84</td>\n",
       "    </tr>\n",
       "    <tr>\n",
       "      <th>3</th>\n",
       "      <td>crime</td>\n",
       "      <td>0.04</td>\n",
       "      <td>0.88</td>\n",
       "    </tr>\n",
       "    <tr>\n",
       "      <th>4</th>\n",
       "      <td>longitude</td>\n",
       "      <td>0.02</td>\n",
       "      <td>0.90</td>\n",
       "    </tr>\n",
       "    <tr>\n",
       "      <th>5</th>\n",
       "      <td>nox</td>\n",
       "      <td>0.02</td>\n",
       "      <td>0.92</td>\n",
       "    </tr>\n",
       "    <tr>\n",
       "      <th>6</th>\n",
       "      <td>older</td>\n",
       "      <td>0.02</td>\n",
       "      <td>0.94</td>\n",
       "    </tr>\n",
       "    <tr>\n",
       "      <th>7</th>\n",
       "      <td>tract</td>\n",
       "      <td>0.01</td>\n",
       "      <td>0.95</td>\n",
       "    </tr>\n",
       "    <tr>\n",
       "      <th>8</th>\n",
       "      <td>latitude</td>\n",
       "      <td>0.01</td>\n",
       "      <td>0.96</td>\n",
       "    </tr>\n",
       "    <tr>\n",
       "      <th>9</th>\n",
       "      <td>industrial</td>\n",
       "      <td>0.01</td>\n",
       "      <td>0.97</td>\n",
       "    </tr>\n",
       "    <tr>\n",
       "      <th>10</th>\n",
       "      <td>tax</td>\n",
       "      <td>0.01</td>\n",
       "      <td>0.98</td>\n",
       "    </tr>\n",
       "    <tr>\n",
       "      <th>11</th>\n",
       "      <td>ptratio</td>\n",
       "      <td>0.01</td>\n",
       "      <td>0.99</td>\n",
       "    </tr>\n",
       "    <tr>\n",
       "      <th>12</th>\n",
       "      <td>residential</td>\n",
       "      <td>0.00</td>\n",
       "      <td>0.99</td>\n",
       "    </tr>\n",
       "    <tr>\n",
       "      <th>13</th>\n",
       "      <td>river</td>\n",
       "      <td>0.00</td>\n",
       "      <td>0.99</td>\n",
       "    </tr>\n",
       "    <tr>\n",
       "      <th>14</th>\n",
       "      <td>highway</td>\n",
       "      <td>0.00</td>\n",
       "      <td>0.99</td>\n",
       "    </tr>\n",
       "  </tbody>\n",
       "</table>\n",
       "</div>"
      ],
      "text/plain": [
       "       features  importance  cumulative importance\n",
       "0         lstat        0.50                   0.50\n",
       "1         rooms        0.29                   0.79\n",
       "2      distance        0.05                   0.84\n",
       "3         crime        0.04                   0.88\n",
       "4     longitude        0.02                   0.90\n",
       "5           nox        0.02                   0.92\n",
       "6         older        0.02                   0.94\n",
       "7         tract        0.01                   0.95\n",
       "8      latitude        0.01                   0.96\n",
       "9    industrial        0.01                   0.97\n",
       "10          tax        0.01                   0.98\n",
       "11      ptratio        0.01                   0.99\n",
       "12  residential        0.00                   0.99\n",
       "13        river        0.00                   0.99\n",
       "14      highway        0.00                   0.99"
      ]
     },
     "execution_count": 92,
     "metadata": {},
     "output_type": "execute_result"
    }
   ],
   "source": [
    "sorted_importances = [importance[1] for importance in feature_importances]\n",
    "sorted_features = [importance[0] for importance in feature_importances]\n",
    "cumulative_importances = np.round(np.cumsum(sorted_importances),2)\n",
    "\n",
    "importance_df = pd.DataFrame({'features': sorted_features, 'importance': sorted_importances, 'cumulative importance': cumulative_importances})\n",
    "importance_df"
   ]
  },
  {
   "cell_type": "code",
   "execution_count": 94,
   "metadata": {},
   "outputs": [
    {
     "data": {
      "text/html": [
       "<div>\n",
       "<style scoped>\n",
       "    .dataframe tbody tr th:only-of-type {\n",
       "        vertical-align: middle;\n",
       "    }\n",
       "\n",
       "    .dataframe tbody tr th {\n",
       "        vertical-align: top;\n",
       "    }\n",
       "\n",
       "    .dataframe thead th {\n",
       "        text-align: right;\n",
       "    }\n",
       "</style>\n",
       "<table border=\"1\" class=\"dataframe\">\n",
       "  <thead>\n",
       "    <tr style=\"text-align: right;\">\n",
       "      <th></th>\n",
       "      <th>features</th>\n",
       "      <th>importance</th>\n",
       "      <th>cumulative importance</th>\n",
       "    </tr>\n",
       "  </thead>\n",
       "  <tbody>\n",
       "    <tr>\n",
       "      <th>0</th>\n",
       "      <td>lstat</td>\n",
       "      <td>0.50</td>\n",
       "      <td>0.50</td>\n",
       "    </tr>\n",
       "    <tr>\n",
       "      <th>1</th>\n",
       "      <td>rooms</td>\n",
       "      <td>0.29</td>\n",
       "      <td>0.79</td>\n",
       "    </tr>\n",
       "    <tr>\n",
       "      <th>2</th>\n",
       "      <td>distance</td>\n",
       "      <td>0.05</td>\n",
       "      <td>0.84</td>\n",
       "    </tr>\n",
       "    <tr>\n",
       "      <th>3</th>\n",
       "      <td>crime</td>\n",
       "      <td>0.04</td>\n",
       "      <td>0.88</td>\n",
       "    </tr>\n",
       "    <tr>\n",
       "      <th>4</th>\n",
       "      <td>longitude</td>\n",
       "      <td>0.02</td>\n",
       "      <td>0.90</td>\n",
       "    </tr>\n",
       "    <tr>\n",
       "      <th>5</th>\n",
       "      <td>nox</td>\n",
       "      <td>0.02</td>\n",
       "      <td>0.92</td>\n",
       "    </tr>\n",
       "    <tr>\n",
       "      <th>6</th>\n",
       "      <td>older</td>\n",
       "      <td>0.02</td>\n",
       "      <td>0.94</td>\n",
       "    </tr>\n",
       "    <tr>\n",
       "      <th>7</th>\n",
       "      <td>tract</td>\n",
       "      <td>0.01</td>\n",
       "      <td>0.95</td>\n",
       "    </tr>\n",
       "  </tbody>\n",
       "</table>\n",
       "</div>"
      ],
      "text/plain": [
       "    features  importance  cumulative importance\n",
       "0      lstat        0.50                   0.50\n",
       "1      rooms        0.29                   0.79\n",
       "2   distance        0.05                   0.84\n",
       "3      crime        0.04                   0.88\n",
       "4  longitude        0.02                   0.90\n",
       "5        nox        0.02                   0.92\n",
       "6      older        0.02                   0.94\n",
       "7      tract        0.01                   0.95"
      ]
     },
     "execution_count": 94,
     "metadata": {},
     "output_type": "execute_result"
    }
   ],
   "source": [
    "# We can pick what we want our cumulative importance to be. Here I chose 95%\n",
    "new_df = importance_df[importance_df['cumulative importance'] <= 0.95]\n",
    "new_df"
   ]
  },
  {
   "cell_type": "code",
   "execution_count": 95,
   "metadata": {},
   "outputs": [
    {
     "name": "stdout",
     "output_type": "stream",
     "text": [
      "Index(['lstat', 'rooms', 'distance', 'crime', 'longitude', 'nox', 'older',\n",
      "       'tract'],\n",
      "      dtype='object')\n"
     ]
    }
   ],
   "source": [
    "# Let's say we only want to use these features. We can re-run the random forest with only these\n",
    "\n",
    "#split the data\n",
    "features = data[new_df.features]\n",
    "labels = data['cmedv']\n",
    "print(features.columns)\n",
    "\n",
    "\n",
    "#convert to numpy arrays\n",
    "import numpy as np\n",
    "features = np.array(features)\n",
    "labels = np.array(labels)\n",
    "\n",
    "from sklearn.model_selection import train_test_split\n",
    "X_train, X_test, y_train, y_test = train_test_split(features, labels, test_size = 0.2, random_state = 1)"
   ]
  },
  {
   "cell_type": "code",
   "execution_count": 100,
   "metadata": {},
   "outputs": [
    {
     "name": "stdout",
     "output_type": "stream",
     "text": [
      "Our tree's accuracy is 91.89%\n",
      "Mean Absolute Error: $2132.2999999999997\n"
     ]
    }
   ],
   "source": [
    "rf = RandomForestRegressor(n_estimators = 1000, random_state = 10)\n",
    "rf.fit(X_train, y_train)\n",
    "predictions = rf.predict(X_test)\n",
    "\n",
    "\n",
    "#accuracy_score(np.array(y_test), np.array(predictions))\n",
    "accuracy = rf.score(np.array(X_test), np.array(y_test))\n",
    "print(\"Our tree's accuracy is \" + str(round(accuracy*100,2)) + \"%\")\n",
    "\n",
    "\n",
    "# Calculate the average error for the predicted results\n",
    "absolute_errors = abs(predictions - y_test)\n",
    "mean_absolute_error = np.mean(absolute_errors)\n",
    "mean_absolute_error = round(mean_absolute_error, 4)\n",
    "print('Mean Absolute Error: $', 1000*mean_absolute_error, sep = '')"
   ]
  },
  {
   "cell_type": "markdown",
   "metadata": {},
   "source": [
    "Remember that our accuracy before was ~ 92% and that the MAE was about $2100 as well\n",
    "While our new model may seem just as good as before, remember that we dropped more than half of our features. \n",
    "That should prove that the other features really weren't adding much more value!\n",
    "This is just one example of how models do not have super complex to provide good results "
   ]
  }
 ],
 "metadata": {
  "kernelspec": {
   "display_name": "Demystifying ML",
   "language": "python",
   "name": "dm_ml"
  },
  "language_info": {
   "codemirror_mode": {
    "name": "ipython",
    "version": 3
   },
   "file_extension": ".py",
   "mimetype": "text/x-python",
   "name": "python",
   "nbconvert_exporter": "python",
   "pygments_lexer": "ipython3",
   "version": "3.7.0"
  }
 },
 "nbformat": 4,
 "nbformat_minor": 2
}
